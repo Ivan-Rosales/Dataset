{
 "cells": [
  {
   "cell_type": "code",
   "execution_count": 1,
   "metadata": {
    "collapsed": true
   },
   "outputs": [],
   "source": [
    "from keras import models\n",
    "import os\n",
    "import re\n",
    "import random\n"
   ]
  },
  {
   "cell_type": "code",
   "execution_count": 2,
   "outputs": [],
   "source": [
    "images_array = []\n",
    "\n",
    "dirname = os.path.join(os.getcwd(), 'images test/')\n",
    "imgpath = dirname + os.sep\n",
    "for root, dirnames, filenames in os.walk(imgpath):\n",
    "    for filename in filenames:\n",
    "        if re.search(\"\\.(jpg|jpeg|png|bmp|tiff)$\", filename):\n",
    "            filepath = os.path.join(root, filename)\n",
    "            images_array.append(filepath)\n",
    "\n"
   ],
   "metadata": {
    "collapsed": false
   }
  },
  {
   "cell_type": "code",
   "execution_count": 3,
   "outputs": [],
   "source": [
    "import cv2 as cv\n",
    "import numpy as np\n",
    "\n",
    "N_TEST = 1000\n",
    "\n",
    "digits = [\"#\", \"$\", \"%\", \"&\", \"1\", \"2\", \"3\", \"4\", \"5\"]\n",
    "images_array = random.sample(images_array, k=N_TEST)\n",
    "\n",
    "images = []\n",
    "for filepath in images_array:\n",
    "    image = cv.imread(filepath, 0)\n",
    "    (_, image) = cv.threshold(image, 140, 255, cv.THRESH_BINARY)\n",
    "    image = cv.resize(image, (32, 32))\n",
    "    images.append(image)\n",
    "\n",
    "data_to_test = np.array(images, dtype=np.uint8)\n",
    "\n",
    "data_to_test = data_to_test / 255.\n"
   ],
   "metadata": {
    "collapsed": false
   }
  },
  {
   "cell_type": "code",
   "execution_count": 4,
   "outputs": [
    {
     "name": "stdout",
     "output_type": "stream",
     "text": [
      "32/32 [==============================] - 1s 7ms/step\n"
     ]
    }
   ],
   "source": [
    "model = models.load_model(\"celulas.h5py\")\n",
    "\n",
    "predicts = model.predict(data_to_test)\n"
   ],
   "metadata": {
    "collapsed": false
   }
  },
  {
   "cell_type": "code",
   "execution_count": 5,
   "outputs": [
    {
     "name": "stdout",
     "output_type": "stream",
     "text": [
      "%: 74.5\n"
     ]
    }
   ],
   "source": [
    "from numpy import ndarray\n",
    "\n",
    "test = 0\n",
    "correct = 0\n",
    "errors = []\n",
    "for index in range(len(images_array)):\n",
    "    test += 1\n",
    "    real_digit = images_array[index].split(os.sep)[-2]\n",
    "    predict: ndarray = predicts[index]\n",
    "\n",
    "    digit = predict.argmax()\n",
    "\n",
    "    # print(f\"valor real: {real_digit}, valor predicho: {digits[digit]}\")\n",
    "    if real_digit == digits[digit]:\n",
    "        correct += 1\n",
    "    else:\n",
    "        errors.append(images_array[index])\n",
    "\n",
    "print(f\"%: {correct / test * 100}\")\n"
   ],
   "metadata": {
    "collapsed": false
   }
  },
  {
   "cell_type": "code",
   "execution_count": 6,
   "outputs": [
    {
     "data": {
      "text/plain": "array([[9.1284923e-02, 1.4129022e-01, 7.2998174e-02, ..., 6.1899953e-02,\n        7.6838709e-02, 5.2964251e-02],\n       [2.4396252e-02, 3.6654420e-02, 2.1556253e-03, ..., 3.6408313e-04,\n        8.6433226e-01, 9.9078694e-04],\n       [3.6903482e-04, 1.9508681e-01, 1.8433221e-03, ..., 4.6557368e-05,\n        2.2203518e-02, 5.2592095e-05],\n       ...,\n       [8.6909063e-02, 2.3147531e-02, 2.4960425e-02, ..., 3.1264212e-03,\n        7.0473915e-01, 2.6852626e-03],\n       [1.1596767e-02, 6.1933595e-01, 7.0929010e-03, ..., 3.9702759e-04,\n        1.3615054e-01, 2.3909805e-03],\n       [1.3678221e-02, 3.4484365e-03, 5.5846267e-05, ..., 1.4294946e-05,\n        9.7452444e-01, 1.7508648e-04]], dtype=float32)"
     },
     "execution_count": 6,
     "metadata": {},
     "output_type": "execute_result"
    }
   ],
   "source": [
    "predicts"
   ],
   "metadata": {
    "collapsed": false
   }
  }
 ],
 "metadata": {
  "kernelspec": {
   "display_name": "Python 3",
   "language": "python",
   "name": "python3"
  },
  "language_info": {
   "codemirror_mode": {
    "name": "ipython",
    "version": 2
   },
   "file_extension": ".py",
   "mimetype": "text/x-python",
   "name": "python",
   "nbconvert_exporter": "python",
   "pygments_lexer": "ipython2",
   "version": "2.7.6"
  }
 },
 "nbformat": 4,
 "nbformat_minor": 0
}
